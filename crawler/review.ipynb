{
 "cells": [
  {
   "cell_type": "code",
   "execution_count": 5,
   "id": "7084def0",
   "metadata": {},
   "outputs": [],
   "source": [
    "import os, re, time, json\n",
    "import pandas as pd\n",
    "import requests\n",
    "from requests.adapters import HTTPAdapter, Retry\n",
    "from concurrent.futures import ThreadPoolExecutor, as_completed\n",
    "from typing import List, Dict, Any, Optional\n",
    "from bs4 import BeautifulSoup"
   ]
  },
  {
   "cell_type": "code",
   "execution_count": 3,
   "id": "34a3255e",
   "metadata": {},
   "outputs": [
    {
     "name": "stdout",
     "output_type": "stream",
     "text": [
      "200\n",
      "총 script 태그 개수: 90\n",
      "\n",
      "89번째 script에서 데이터 발견!\n",
      "self.__next_f.push([1,\"7:[\\\"$\\\",\\\"$L27\\\",null,{\\\"data\\\":{\\\"page\\\":{\\\"currentPage\\\":1,\\\"totalPage\\\":228,\\\"totalContentsCount\\\":6837},\\\"items\\\":[{\\\"id_contents_migration\\\":154088,\\\"id_forum\\\":1,\\\"type\\\":11,\\\"id_contents\\\":8870,\\\"id_contents_topic\\\":2,\\\"contents_topic\\\":\\\"오너리뷰\\\",\\\"topic_tag\\\":null,\\\"title\\\":\\\"EV4\\\",\\\"contents\\\":\\\"혼자 출퇴근용으로 타는데 아주 만족입니다! 외관이 조금 이뻤으면 좋겠지만 전비가 좋으니 만족이에요! 트렁크랑 2열높이 개선만 되면 좋을 것 같아요 !! 매니저님께서 알아서 챙겨주시니 좋았습니다 내연\\\",\\\"reply_cnt\\\":2,\\\"like_cnt\\\":3,\\\"view_cnt\\\":67,\\\"is_notice\n"
     ]
    }
   ],
   "source": [
    "res = requests.get(\"https://web.getcha.kr/community/owner-review\")\n",
    "\n",
    "print(res.status_code)\n",
    "\n",
    "soup = BeautifulSoup(res.text, \"html.parser\")\n",
    "\n",
    "# 방법 1: script 태그에서 JSON 데이터 추출\n",
    "scripts = soup.find_all(\"script\")\n",
    "print(f\"총 script 태그 개수: {len(scripts)}\")\n",
    "\n",
    "# JSON 데이터가 들어있는 script 찾기\n",
    "for i, script in enumerate(scripts):\n",
    "    if script.string and \"items\" in script.string and \"id_contents\" in script.string:\n",
    "        print(f\"\\n{i}번째 script에서 데이터 발견!\")\n",
    "        # JSON 파싱을 위해 일부 출력\n",
    "        print(script.string[:500])\n",
    "\n",
    "\n",
    "\n"
   ]
  },
  {
   "cell_type": "code",
   "execution_count": 6,
   "id": "cc1707a3",
   "metadata": {},
   "outputs": [],
   "source": [
    "# 방법 2: 실제 JSON 데이터 추출 및 파싱\n",
    "\n",
    "for script in scripts:\n",
    "    if script.string and '\"items\":[{' in script.string:\n",
    "        # self.__next_f.push([1, \"...\"]) 형태에서 JSON 부분만 추출\n",
    "        script_text = script.string\n",
    "        \n",
    "        # 정규식으로 data 객체 찾기\n",
    "        match = re.search(r'\"data\":\\{.*?\"items\":\\[(.*?)\\]', script_text)\n",
    "        if match:\n",
    "            print(\"데이터 구조 발견!\")\n",
    "            \n",
    "            # 전체 JSON 텍스트에서 items 배열 찾기\n",
    "            # Next.js 데이터 구조 파싱\n",
    "            try:\n",
    "                # JSON 문자열에서 items 부분 추출\n",
    "                items_match = re.search(r'\"items\":\\[(\\{.*?\\})\\]', script_text, re.DOTALL)\n",
    "                if items_match:\n",
    "                    print(\"\\n첫 번째 아이템 샘플:\")\n",
    "                    print(items_match.group(1)[:1000])\n",
    "            except Exception as e:\n",
    "                print(f\"파싱 오류: {e}\")\n",
    "            break\n"
   ]
  },
  {
   "cell_type": "code",
   "execution_count": 8,
   "id": "4cdd866f",
   "metadata": {},
   "outputs": [
    {
     "name": "stdout",
     "output_type": "stream",
     "text": [
      "❌ 데이터를 찾지 못했습니다.\n"
     ]
    }
   ],
   "source": [
    "# 방법 3: HTML에서 Next.js 데이터 추출 (실제 작동하는 방법!)\n",
    "\n",
    "# script 태그에서 데이터 추출\n",
    "data_found = False\n",
    "\n",
    "for script in scripts:\n",
    "    if script.string and '\"items\":[{' in script.string:\n",
    "        script_text = script.string\n",
    "        \n",
    "        # Next.js 데이터 형식: self.__next_f.push([1, \"...JSON...\"])\n",
    "        # JSON 부분만 추출\n",
    "        try:\n",
    "            # \"items\":[ 로 시작하는 부분 찾기\n",
    "            start_idx = script_text.find('\"items\":[{')\n",
    "            if start_idx != -1:\n",
    "                # 중첩된 배열과 객체를 고려하여 끝 찾기\n",
    "                bracket_count = 0\n",
    "                end_idx = start_idx + len('\"items\":[')\n",
    "                \n",
    "                for i in range(end_idx, len(script_text)):\n",
    "                    if script_text[i] == '[':\n",
    "                        bracket_count += 1\n",
    "                    elif script_text[i] == ']':\n",
    "                        bracket_count -= 1\n",
    "                        if bracket_count == -1:  # items 배열의 끝\n",
    "                            end_idx = i\n",
    "                            break\n",
    "                \n",
    "                # JSON 문자열 추출\n",
    "                json_str = '{' + script_text[start_idx:end_idx+1] + '}'\n",
    "                \n",
    "                # 이스케이프 처리된 문자열 정리\n",
    "                json_str = json_str.replace('\\\\\"', '\"')\n",
    "                json_str = json_str.replace('\\\\n', '\\n')\n",
    "                \n",
    "                # JSON 파싱\n",
    "                data = json.loads(json_str)\n",
    "                data_found = True\n",
    "                \n",
    "                print(\"✅ 데이터 추출 성공!\")\n",
    "                print(f\"총 리뷰 수: {len(data.get('items', []))}\")\n",
    "                \n",
    "                # 첫 번째 리뷰 출력\n",
    "                if data.get('items'):\n",
    "                    first = data['items'][0]\n",
    "                    print(f\"\\n첫 번째 리뷰:\")\n",
    "                    print(f\"- 제목: {first.get('title')}\")\n",
    "                    print(f\"- 작성자: {first.get('user', {}).get('nickname')}\")\n",
    "                    print(f\"- 내용: {first.get('contents', '')[:100]}...\")\n",
    "                    print(f\"- 좋아요: {first.get('like_cnt')}\")\n",
    "                \n",
    "                break\n",
    "                \n",
    "        except Exception as e:\n",
    "            print(f\"파싱 중 오류: {e}\")\n",
    "            continue\n",
    "\n",
    "if not data_found:\n",
    "    print(\"❌ 데이터를 찾지 못했습니다.\")\n"
   ]
  },
  {
   "cell_type": "code",
   "execution_count": null,
   "id": "bc327aac",
   "metadata": {},
   "outputs": [],
   "source": [
    "# 방법 4: 리뷰 데이터를 DataFrame으로 변환\n",
    "\n",
    "if data_found:\n",
    "    reviews = []\n",
    "    \n",
    "    for item in data.get('items', []):\n",
    "        review = {\n",
    "            'id': item.get('id_contents'),\n",
    "            '제목': item.get('title'),\n",
    "            '내용': item.get('contents'),\n",
    "            '작성자': item.get('user', {}).get('nickname'),\n",
    "            '작성자레벨': item.get('user', {}).get('lv'),\n",
    "            '좋아요': item.get('like_cnt'),\n",
    "            '댓글수': item.get('reply_cnt'),\n",
    "            '조회수': item.get('view_cnt'),\n",
    "            '작성일': item.get('created'),\n",
    "            '이미지수': item.get('image_count'),\n",
    "            '이미지URL': item.get('image_url'),\n",
    "            '평점': None  # tag_info에서 추출\n",
    "        }\n",
    "        \n",
    "        # 평점 추출\n",
    "        for tag in item.get('tag_info', []):\n",
    "            if tag.get('type') == 'RATING':\n",
    "                review['평점'] = float(tag.get('name'))\n",
    "                break\n",
    "        \n",
    "        reviews.append(review)\n",
    "    \n",
    "    df = pd.DataFrame(reviews)\n",
    "    print(f\"\\n총 {len(df)}개의 리뷰 수집\")\n",
    "    print(f\"\\n데이터 미리보기:\")\n",
    "    print(df[['제목', '작성자', '평점', '좋아요', '댓글수']].head(10))\n",
    "    \n",
    "    print(f\"\\n평점 통계:\")\n",
    "    print(df['평점'].describe())\n"
   ]
  },
  {
   "cell_type": "code",
   "execution_count": null,
   "id": "a8dfc6c6",
   "metadata": {},
   "outputs": [],
   "source": [
    "\n"
   ]
  },
  {
   "cell_type": "code",
   "execution_count": null,
   "id": "0ac245af",
   "metadata": {},
   "outputs": [],
   "source": [
    "\n"
   ]
  }
 ],
 "metadata": {
  "kernelspec": {
   "display_name": "study",
   "language": "python",
   "name": "python3"
  },
  "language_info": {
   "codemirror_mode": {
    "name": "ipython",
    "version": 3
   },
   "file_extension": ".py",
   "mimetype": "text/x-python",
   "name": "python",
   "nbconvert_exporter": "python",
   "pygments_lexer": "ipython3",
   "version": "3.11.13"
  }
 },
 "nbformat": 4,
 "nbformat_minor": 5
}
