{
 "cells": [
  {
   "cell_type": "code",
   "execution_count": 1,
   "id": "9e9de73a",
   "metadata": {},
   "outputs": [
    {
     "name": "stdout",
     "output_type": "stream",
     "text": [
      "Requirement already satisfied: pandas in c:\\users\\opgrs\\anaconda3\\envs\\final_project\\lib\\site-packages (2.3.2)\n",
      "Requirement already satisfied: numpy>=1.23.2 in c:\\users\\opgrs\\anaconda3\\envs\\final_project\\lib\\site-packages (from pandas) (2.3.2)\n",
      "Requirement already satisfied: python-dateutil>=2.8.2 in c:\\users\\opgrs\\anaconda3\\envs\\final_project\\lib\\site-packages (from pandas) (2.9.0.post0)\n",
      "Requirement already satisfied: pytz>=2020.1 in c:\\users\\opgrs\\anaconda3\\envs\\final_project\\lib\\site-packages (from pandas) (2025.2)\n",
      "Requirement already satisfied: tzdata>=2022.7 in c:\\users\\opgrs\\anaconda3\\envs\\final_project\\lib\\site-packages (from pandas) (2025.2)\n",
      "Requirement already satisfied: six>=1.5 in c:\\users\\opgrs\\anaconda3\\envs\\final_project\\lib\\site-packages (from python-dateutil>=2.8.2->pandas) (1.17.0)\n",
      "Note: you may need to restart the kernel to use updated packages.\n"
     ]
    }
   ],
   "source": [
    "%pip install pandas"
   ]
  },
  {
   "cell_type": "code",
   "execution_count": 49,
   "id": "214565f9",
   "metadata": {},
   "outputs": [
    {
     "name": "stdout",
     "output_type": "stream",
     "text": [
      "data frame head:\n",
      "<bound method NDFrame.head of             LoanID  Age  Income  LoanAmount  CreditScore  MonthsEmployed  \\\n",
      "0       I38PQUQS96   56   85994       50587          520              80   \n",
      "1       HPSK72WA7R   69   50432      124440          458              15   \n",
      "2       C1OZ6DPJ8Y   46   84208      129188          451              26   \n",
      "3       V2KKSFM3UN   32   31713       44799          743               0   \n",
      "4       EY08JDHTZP   60   20437        9139          633               8   \n",
      "...            ...  ...     ...         ...          ...             ...   \n",
      "255342  8C6S86ESGC   19   37979      210682          541             109   \n",
      "255343  98R4KDHNND   32   51953      189899          511              14   \n",
      "255344  XQK1UUUNGP   56   84820      208294          597              70   \n",
      "255345  JAO28CPL4H   42   85109       60575          809              40   \n",
      "255346  ZTH91CGL0B   62   22418       18481          636             113   \n",
      "\n",
      "        NumCreditLines  InterestRate  LoanTerm  DTIRatio    Education  \\\n",
      "0                    4         15.23        36      0.44   Bachelor's   \n",
      "1                    1          4.81        60      0.68     Master's   \n",
      "2                    3         21.17        24      0.31     Master's   \n",
      "3                    3          7.07        24      0.23  High School   \n",
      "4                    4          6.51        48      0.73   Bachelor's   \n",
      "...                ...           ...       ...       ...          ...   \n",
      "255342               4         14.11        12      0.85   Bachelor's   \n",
      "255343               2         11.55        24      0.21  High School   \n",
      "255344               3          5.29        60      0.50  High School   \n",
      "255345               1         20.90        48      0.44  High School   \n",
      "255346               2          6.73        12      0.48   Bachelor's   \n",
      "\n",
      "       EmploymentType MaritalStatus HasMortgage HasDependents LoanPurpose  \\\n",
      "0           Full-time      Divorced         Yes           Yes       Other   \n",
      "1           Full-time       Married          No            No       Other   \n",
      "2          Unemployed      Divorced         Yes           Yes        Auto   \n",
      "3           Full-time       Married          No            No    Business   \n",
      "4          Unemployed      Divorced          No           Yes        Auto   \n",
      "...               ...           ...         ...           ...         ...   \n",
      "255342      Full-time       Married          No            No       Other   \n",
      "255343      Part-time      Divorced          No            No        Home   \n",
      "255344  Self-employed       Married         Yes           Yes        Auto   \n",
      "255345      Part-time        Single         Yes           Yes       Other   \n",
      "255346     Unemployed      Divorced         Yes            No   Education   \n",
      "\n",
      "       HasCoSigner  Default  \n",
      "0              Yes        0  \n",
      "1              Yes        0  \n",
      "2               No        1  \n",
      "3               No        0  \n",
      "4               No        0  \n",
      "...            ...      ...  \n",
      "255342          No        0  \n",
      "255343          No        1  \n",
      "255344         Yes        0  \n",
      "255345          No        0  \n",
      "255346         Yes        0  \n",
      "\n",
      "[255347 rows x 18 columns]>\n",
      "\n",
      "dataframe info:\n",
      "<class 'pandas.core.frame.DataFrame'>\n",
      "RangeIndex: 255347 entries, 0 to 255346\n",
      "Data columns (total 18 columns):\n",
      " #   Column          Non-Null Count   Dtype  \n",
      "---  ------          --------------   -----  \n",
      " 0   LoanID          255347 non-null  object \n",
      " 1   Age             255347 non-null  int64  \n",
      " 2   Income          255347 non-null  int64  \n",
      " 3   LoanAmount      255347 non-null  int64  \n",
      " 4   CreditScore     255347 non-null  int64  \n",
      " 5   MonthsEmployed  255347 non-null  int64  \n",
      " 6   NumCreditLines  255347 non-null  int64  \n",
      " 7   InterestRate    255347 non-null  float64\n",
      " 8   LoanTerm        255347 non-null  int64  \n",
      " 9   DTIRatio        255347 non-null  float64\n",
      " 10  Education       255347 non-null  object \n",
      " 11  EmploymentType  255347 non-null  object \n",
      " 12  MaritalStatus   255347 non-null  object \n",
      " 13  HasMortgage     255347 non-null  object \n",
      " 14  HasDependents   255347 non-null  object \n",
      " 15  LoanPurpose     255347 non-null  object \n",
      " 16  HasCoSigner     255347 non-null  object \n",
      " 17  Default         255347 non-null  int64  \n",
      "dtypes: float64(2), int64(8), object(8)\n",
      "memory usage: 35.1+ MB\n"
     ]
    }
   ],
   "source": [
    "import pandas as pd\n",
    "\n",
    "try:\n",
    "    df = pd.read_csv('.\\\\practice_data\\\\Loan_default.csv')\n",
    "    print(\"data frame head:\")\n",
    "    print(df.head)\n",
    "\n",
    "    print(\"\\ndataframe info:\")\n",
    "    df.info()\n",
    "\n",
    "except FileNotFoundError:\n",
    "    print('파일을 찾을 수 없습니다')"
   ]
  },
  {
   "cell_type": "code",
   "execution_count": null,
   "id": "f50b4bb1",
   "metadata": {},
   "outputs": [],
   "source": [
    "file_name = '.\\\\practice_data\\\\Loan_default.csv'\n",
    "df = pd.read_csv(file_name)"
   ]
  },
  {
   "cell_type": "code",
   "execution_count": 51,
   "id": "8fb0a64a",
   "metadata": {},
   "outputs": [
    {
     "data": {
      "text/plain": [
       "Index(['LoanID', 'Age', 'Income', 'LoanAmount', 'CreditScore',\n",
       "       'MonthsEmployed', 'NumCreditLines', 'InterestRate', 'LoanTerm',\n",
       "       'DTIRatio', 'Education', 'EmploymentType', 'MaritalStatus',\n",
       "       'HasMortgage', 'HasDependents', 'LoanPurpose', 'HasCoSigner',\n",
       "       'Default'],\n",
       "      dtype='object')"
      ]
     },
     "execution_count": 51,
     "metadata": {},
     "output_type": "execute_result"
    }
   ],
   "source": [
    "df.columns"
   ]
  },
  {
   "cell_type": "code",
   "execution_count": 52,
   "id": "896b0ac5",
   "metadata": {},
   "outputs": [],
   "source": [
    "df = df.drop('LoanID',axis=1)"
   ]
  },
  {
   "cell_type": "code",
   "execution_count": 53,
   "id": "94024516",
   "metadata": {},
   "outputs": [
    {
     "name": "stdout",
     "output_type": "stream",
     "text": [
      "[\"Bachelor's\" \"Master's\" 'High School' 'PhD']\n"
     ]
    }
   ],
   "source": [
    "unique_values = df['Education'].unique()\n",
    "print(unique_values)"
   ]
  },
  {
   "cell_type": "code",
   "execution_count": null,
   "id": "e79a5386",
   "metadata": {},
   "outputs": [
    {
     "name": "stderr",
     "output_type": "stream",
     "text": [
      "C:\\Users\\opgrs\\AppData\\Local\\Temp\\ipykernel_10700\\660641898.py:14: FutureWarning: Downcasting behavior in `replace` is deprecated and will be removed in a future version. To retain the old behavior, explicitly call `result.infer_objects(copy=False)`. To opt-in to the future behavior, set `pd.set_option('future.no_silent_downcasting', True)`\n",
      "  df['Education'] = df['Education'].replace(education_map)\n"
     ]
    },
    {
     "name": "stdout",
     "output_type": "stream",
     "text": [
      "전처리 완료된 DataFrame Head:\n",
      "        Age    Income  LoanAmount  CreditScore  MonthsEmployed  \\\n",
      "0  0.833990  0.089693   -1.086833    -0.341492        0.590533   \n",
      "1  1.701221 -0.823021   -0.044309    -0.731666       -1.285731   \n",
      "2  0.166888  0.043854    0.022715    -0.775718       -0.968209   \n",
      "3 -0.767053 -1.303452   -1.168538     1.061875       -1.718715   \n",
      "4  1.100830 -1.592855   -1.671921     0.369631       -1.487790   \n",
      "\n",
      "   NumCreditLines  InterestRate  LoanTerm  DTIRatio  Education  ...  \\\n",
      "0        1.341937      0.261771 -0.001526 -0.260753          1  ...   \n",
      "1       -1.343791     -1.308350  1.412793  0.778585          2  ...   \n",
      "2        0.446694      1.156831 -0.708685 -0.823728          2  ...   \n",
      "3        0.446694     -0.967805 -0.708685 -1.170174          0  ...   \n",
      "4        1.341937     -1.052188  0.705634  0.995114          1  ...   \n",
      "\n",
      "   EmploymentType_Unemployed  MaritalStatus_Married  MaritalStatus_Single  \\\n",
      "0                      False                  False                 False   \n",
      "1                      False                   True                 False   \n",
      "2                       True                  False                 False   \n",
      "3                      False                   True                 False   \n",
      "4                       True                  False                 False   \n",
      "\n",
      "   HasMortgage_Yes  HasDependents_Yes  LoanPurpose_Business  \\\n",
      "0             True               True                 False   \n",
      "1            False              False                 False   \n",
      "2             True               True                 False   \n",
      "3            False              False                  True   \n",
      "4            False               True                 False   \n",
      "\n",
      "   LoanPurpose_Education  LoanPurpose_Home  LoanPurpose_Other  HasCoSigner_Yes  \n",
      "0                  False             False               True             True  \n",
      "1                  False             False               True             True  \n",
      "2                  False             False              False            False  \n",
      "3                  False             False              False            False  \n",
      "4                  False             False              False            False  \n",
      "\n",
      "[5 rows x 23 columns]\n",
      "\n",
      "전처리 완료된 DataFrame Info:\n",
      "<class 'pandas.core.frame.DataFrame'>\n",
      "RangeIndex: 255347 entries, 0 to 255346\n",
      "Data columns (total 23 columns):\n",
      " #   Column                        Non-Null Count   Dtype  \n",
      "---  ------                        --------------   -----  \n",
      " 0   Age                           255347 non-null  float64\n",
      " 1   Income                        255347 non-null  float64\n",
      " 2   LoanAmount                    255347 non-null  float64\n",
      " 3   CreditScore                   255347 non-null  float64\n",
      " 4   MonthsEmployed                255347 non-null  float64\n",
      " 5   NumCreditLines                255347 non-null  float64\n",
      " 6   InterestRate                  255347 non-null  float64\n",
      " 7   LoanTerm                      255347 non-null  float64\n",
      " 8   DTIRatio                      255347 non-null  float64\n",
      " 9   Education                     255347 non-null  int64  \n",
      " 10  Default                       255347 non-null  int64  \n",
      " 11  EmploymentType_Part-time      255347 non-null  bool   \n",
      " 12  EmploymentType_Self-employed  255347 non-null  bool   \n",
      " 13  EmploymentType_Unemployed     255347 non-null  bool   \n",
      " 14  MaritalStatus_Married         255347 non-null  bool   \n",
      " 15  MaritalStatus_Single          255347 non-null  bool   \n",
      " 16  HasMortgage_Yes               255347 non-null  bool   \n",
      " 17  HasDependents_Yes             255347 non-null  bool   \n",
      " 18  LoanPurpose_Business          255347 non-null  bool   \n",
      " 19  LoanPurpose_Education         255347 non-null  bool   \n",
      " 20  LoanPurpose_Home              255347 non-null  bool   \n",
      " 21  LoanPurpose_Other             255347 non-null  bool   \n",
      " 22  HasCoSigner_Yes               255347 non-null  bool   \n",
      "dtypes: bool(12), float64(9), int64(2)\n",
      "memory usage: 24.4 MB\n",
      "\n",
      "특징(X) 데이터 형태: (255347, 22)\n",
      "목표(y) 데이터 형태: (255347,)\n"
     ]
    }
   ],
   "source": [
    "import pandas as pd\n",
    "from sklearn.preprocessing import StandardScaler\n",
    "\n",
    "# 2. 서열형 인코딩 (Ordinal Encoding) - 수동 매핑\n",
    "# 'Education' 컬럼의 고유 값과 순서에 맞게 딕셔너리 생성\n",
    "education_map = {\n",
    "    'High School': 0,\n",
    "    \"Bachelor's\": 1,\n",
    "    \"Master's\": 2,\n",
    "    'PhD': 3\n",
    "}\n",
    "\n",
    "# 딕셔너리를 사용하여 'Education' 컬럼 값 대체\n",
    "df['Education'] = df['Education'].replace(education_map)\n",
    "\n",
    "# 3. 원-핫 인코딩 (One-Hot Encoding)\n",
    "one_hot_cols = [\n",
    "    'EmploymentType',\n",
    "    'MaritalStatus',\n",
    "    'HasMortgage',\n",
    "    'HasDependents',\n",
    "    'LoanPurpose',\n",
    "    'HasCoSigner'\n",
    "]\n",
    "df_encoded = pd.get_dummies(df, columns=one_hot_cols, drop_first=True)\n",
    "\n",
    "\n",
    "# 4. 숫자형 변수 스케일링 (Numerical Scaling)\n",
    "numerical_cols = [\n",
    "    'Age',\n",
    "    'Income',\n",
    "    'LoanAmount',\n",
    "    'CreditScore',\n",
    "    'MonthsEmployed',\n",
    "    'NumCreditLines',\n",
    "    'InterestRate',\n",
    "    'LoanTerm',\n",
    "    'DTIRatio'\n",
    "]\n",
    "\n",
    "scaler = StandardScaler()\n",
    "df_encoded[numerical_cols] = scaler.fit_transform(df_encoded[numerical_cols])\n",
    "\n",
    "# 5. 최종 데이터 형태 확인\n",
    "X = df_encoded.drop('Default', axis=1)\n",
    "y = df_encoded['Default']\n",
    "\n",
    "print(\"전처리 완료된 DataFrame Head:\")\n",
    "print(df_encoded.head())\n",
    "\n",
    "print(\"\\n전처리 완료된 DataFrame Info:\")\n",
    "df_encoded.info()\n",
    "\n",
    "print(\"\\n특징(X) 데이터 형태:\", X.shape)\n",
    "print(\"목표(y) 데이터 형태:\", y.shape)"
   ]
  },
  {
   "cell_type": "code",
   "execution_count": 60,
   "id": "13d2b8c3",
   "metadata": {},
   "outputs": [
    {
     "name": "stderr",
     "output_type": "stream",
     "text": [
      "C:\\Users\\opgrs\\AppData\\Local\\Temp\\ipykernel_10700\\2448397791.py:19: FutureWarning: Downcasting behavior in `replace` is deprecated and will be removed in a future version. To retain the old behavior, explicitly call `result.infer_objects(copy=False)`. To opt-in to the future behavior, set `pd.set_option('future.no_silent_downcasting', True)`\n",
      "  df['Education'] = df['Education'].replace(education_map)\n"
     ]
    },
    {
     "name": "stdout",
     "output_type": "stream",
     "text": [
      "데이터 분할 완료:\n",
      "학습용 데이터셋: 204277개\n",
      "테스트용 데이터셋: 51070개\n",
      "\n",
      "로지스틱 회귀 모델 정확도: 0.8858\n",
      "랜덤 포레스트 모델 정확도: 0.8864\n"
     ]
    }
   ],
   "source": [
    "import pandas as pd\n",
    "from sklearn.model_selection import train_test_split\n",
    "from sklearn.preprocessing import StandardScaler\n",
    "from sklearn.linear_model import LogisticRegression\n",
    "from sklearn.ensemble import RandomForestClassifier\n",
    "from sklearn.metrics import accuracy_score\n",
    "\n",
    "# 데이터 불러오기 및 전처리 (이전 단계에서 완료한 모든 과정)\n",
    "file_name = '.\\\\practice_data\\\\Loan_default.csv'\n",
    "df = pd.read_csv(file_name)\n",
    "df = df.drop('LoanID', axis=1)\n",
    "\n",
    "education_map = {\n",
    "    'High School': 0,\n",
    "    \"Bachelor's\": 1,\n",
    "    \"Master's\": 2,\n",
    "    'PhD': 3\n",
    "}\n",
    "df['Education'] = df['Education'].replace(education_map)\n",
    "\n",
    "one_hot_cols = [\n",
    "    'EmploymentType',\n",
    "    'MaritalStatus',\n",
    "    'HasMortgage',\n",
    "    'HasDependents',\n",
    "    'LoanPurpose',\n",
    "    'HasCoSigner'\n",
    "]\n",
    "df_encoded = pd.get_dummies(df, columns=one_hot_cols, drop_first=True)\n",
    "\n",
    "numerical_cols = [\n",
    "    'Age', 'Income', 'LoanAmount', 'CreditScore', 'MonthsEmployed',\n",
    "    'NumCreditLines', 'InterestRate', 'LoanTerm', 'DTIRatio'\n",
    "]\n",
    "scaler = StandardScaler()\n",
    "df_encoded[numerical_cols] = scaler.fit_transform(df_encoded[numerical_cols])\n",
    "\n",
    "# 특징(X)과 목표(y) 변수 분리\n",
    "X = df_encoded.drop('Default', axis=1)\n",
    "y = df_encoded['Default']\n",
    "\n",
    "# 1. 데이터를 학습용(Training)과 테스트용(Test)으로 분할\n",
    "# test_size=0.2는 전체 데이터의 20%를 테스트용으로 사용하겠다는 의미입니다.\n",
    "# random_state는 코드를 다시 실행해도 동일한 결과를 얻기 위해 설정합니다.\n",
    "X_train, X_test, y_train, y_test = train_test_split(X, y, test_size=0.2, random_state=42)\n",
    "\n",
    "print(\"데이터 분할 완료:\")\n",
    "print(f\"학습용 데이터셋: {X_train.shape[0]}개\")\n",
    "print(f\"테스트용 데이터셋: {X_test.shape[0]}개\")\n",
    "\n",
    "# 2. 로지스틱 회귀 모델 학습 및 평가\n",
    "log_reg_model = LogisticRegression(random_state=42)\n",
    "log_reg_model.fit(X_train, y_train)\n",
    "log_reg_pred = log_reg_model.predict(X_test)\n",
    "log_reg_accuracy = accuracy_score(y_test, log_reg_pred)\n",
    "\n",
    "print(\"\\n로지스틱 회귀 모델 정확도:\", f\"{log_reg_accuracy:.4f}\")\n",
    "\n",
    "# 3. 랜덤 포레스트 모델 학습 및 평가\n",
    "rf_model = RandomForestClassifier(n_estimators=100, random_state=42, n_jobs=-1)\n",
    "rf_model.fit(X_train, y_train)\n",
    "rf_pred = rf_model.predict(X_test)\n",
    "rf_accuracy = accuracy_score(y_test, rf_pred)\n",
    "\n",
    "print(\"랜덤 포레스트 모델 정확도:\", f\"{rf_accuracy:.4f}\")\n"
   ]
  },
  {
   "cell_type": "code",
   "execution_count": 62,
   "id": "f6d7f8dc",
   "metadata": {},
   "outputs": [
    {
     "name": "stderr",
     "output_type": "stream",
     "text": [
      "C:\\Users\\opgrs\\AppData\\Local\\Temp\\ipykernel_10700\\406824671.py:19: FutureWarning: Downcasting behavior in `replace` is deprecated and will be removed in a future version. To retain the old behavior, explicitly call `result.infer_objects(copy=False)`. To opt-in to the future behavior, set `pd.set_option('future.no_silent_downcasting', True)`\n",
      "  df['Education'] = df['Education'].replace(education_map)\n"
     ]
    }
   ],
   "source": [
    "import pandas as pd\n",
    "from sklearn.model_selection import train_test_split\n",
    "from sklearn.preprocessing import StandardScaler\n",
    "from sklearn.linear_model import LogisticRegression\n",
    "from sklearn.ensemble import RandomForestClassifier\n",
    "from sklearn.metrics import confusion_matrix, classification_report, accuracy_score\n",
    "\n",
    "file_name = '.\\\\practice_data\\\\Loan_default.csv'\n",
    "df = pd.read_csv(file_name)\n",
    "df = df.drop('LoanID', axis = 1)\n",
    "\n",
    "education_map = {\n",
    "    'High School': 0,\n",
    "    \"Bachelor's\": 1,\n",
    "    \"Master's\": 2,\n",
    "    'PhD': 3\n",
    "}\n",
    "\n",
    "df['Education'] = df['Education'].replace(education_map)\n",
    "\n",
    "one_hot_cols = [\n",
    "    'EmploymentType', 'MaritalStatus', 'HasMortgage', 'HasDependents',\n",
    "    'LoanPurpose', 'HasCoSigner'\n",
    "]\n",
    "df_encoded = pd.get_dummies(df, columns=one_hot_cols, drop_first=True)\n",
    "\n",
    "numerical_cols = [\n",
    "    'Age', 'Income', 'LoanAmount', 'CreditScore', 'MonthsEmployed',\n",
    "    'NumCreditLines', 'InterestRate', 'LoanTerm', 'DTIRatio'\n",
    "]\n",
    "scaler = StandardScaler()\n",
    "df_encoded[numerical_cols] = scaler.fit_transform(df_encoded[numerical_cols])\n",
    "\n",
    "\n",
    "# 특징(X)과 목표(y) 변수 분리\n",
    "X = df_encoded.drop('Default', axis=1)\n",
    "y = df_encoded['Default']\n",
    "\n",
    "# 1. 데이터를 학습용(Training)과 테스트용(Test)으로 분할\n",
    "# test_size=0.2는 전체 데이터의 20%를 테스트용으로 사용하겠다는 의미입니다.\n",
    "# random_state는 코드를 다시 실행해도 동일한 결과를 얻기 위해 설정합니다.\n",
    "X_train, X_test, y_train, y_test = train_test_split(X, y, test_size=0.2, random_state=42)\n"
   ]
  },
  {
   "cell_type": "code",
   "execution_count": 64,
   "id": "c752361c",
   "metadata": {},
   "outputs": [
    {
     "name": "stdout",
     "output_type": "stream",
     "text": [
      "==================================================\n",
      "로지스틱스 회귀 모델 성능 분석\n",
      "==================================================\n",
      "혼동행렬:\n",
      "[[45047   123]\n",
      " [ 5710   190]]\n",
      "\n",
      "분류 리포트:\n",
      "              precision    recall  f1-score   support\n",
      "\n",
      "           0       0.89      1.00      0.94     45170\n",
      "           1       0.61      0.03      0.06      5900\n",
      "\n",
      "    accuracy                           0.89     51070\n",
      "   macro avg       0.75      0.51      0.50     51070\n",
      "weighted avg       0.86      0.89      0.84     51070\n",
      "\n"
     ]
    }
   ],
   "source": [
    "# 로지스틱스 회귀 모델 학습 및 예측\n",
    "log_reg_model = LogisticRegression(random_state=42)\n",
    "log_reg_model.fit(X_train,y_train)\n",
    "log_reg_pred = log_reg_model.predict(X_test)\n",
    "\n",
    "# 로지스틱스 회귀 모델 성능 분석\n",
    "print(\"=\"*50)\n",
    "print('로지스틱스 회귀 모델 성능 분석')\n",
    "print(\"=\"*50)\n",
    "print('혼동행렬:')\n",
    "print(confusion_matrix(y_test, log_reg_pred))\n",
    "print(\"\\n분류 리포트:\")\n",
    "print(classification_report(y_test, log_reg_pred))"
   ]
  },
  {
   "cell_type": "code",
   "execution_count": 65,
   "id": "f0e0a84c",
   "metadata": {},
   "outputs": [
    {
     "name": "stdout",
     "output_type": "stream",
     "text": [
      "==================================================\n",
      "랜덤 포레스트 모델 성능 분석\n",
      "==================================================\n",
      "혼동 행렬:\n",
      "[[45065   105]\n",
      " [ 5694   206]]\n",
      "\n",
      "분류 리포트:\n",
      "              precision    recall  f1-score   support\n",
      "\n",
      "           0       0.89      1.00      0.94     45170\n",
      "           1       0.66      0.03      0.07      5900\n",
      "\n",
      "    accuracy                           0.89     51070\n",
      "   macro avg       0.78      0.52      0.50     51070\n",
      "weighted avg       0.86      0.89      0.84     51070\n",
      "\n"
     ]
    }
   ],
   "source": [
    "rf_model = RandomForestClassifier(n_estimators=100, random_state=42, n_jobs=1)\n",
    "rf_model.fit(X_train,y_train)\n",
    "rf_pred = rf_model.predict(X_test)\n",
    "\n",
    "print(\"=\"*50)\n",
    "print(\"랜덤 포레스트 모델 성능 분석\")\n",
    "print(\"=\"*50)\n",
    "print(\"혼동 행렬:\")\n",
    "print(confusion_matrix(y_test, rf_pred))\n",
    "print(\"\\n분류 리포트:\")\n",
    "print(classification_report(y_test, rf_pred))"
   ]
  },
  {
   "cell_type": "code",
   "execution_count": 66,
   "id": "d4770819",
   "metadata": {},
   "outputs": [
    {
     "name": "stdout",
     "output_type": "stream",
     "text": [
      "Collecting imblearn\n",
      "  Downloading imblearn-0.0-py2.py3-none-any.whl.metadata (355 bytes)\n",
      "Collecting imbalanced-learn (from imblearn)\n",
      "  Downloading imbalanced_learn-0.14.0-py3-none-any.whl.metadata (8.8 kB)\n",
      "Requirement already satisfied: numpy<3,>=1.25.2 in c:\\users\\opgrs\\anaconda3\\envs\\final_project\\lib\\site-packages (from imbalanced-learn->imblearn) (2.3.2)\n",
      "Requirement already satisfied: scipy<2,>=1.11.4 in c:\\users\\opgrs\\anaconda3\\envs\\final_project\\lib\\site-packages (from imbalanced-learn->imblearn) (1.16.1)\n",
      "Requirement already satisfied: scikit-learn<2,>=1.4.2 in c:\\users\\opgrs\\anaconda3\\envs\\final_project\\lib\\site-packages (from imbalanced-learn->imblearn) (1.7.1)\n",
      "Requirement already satisfied: joblib<2,>=1.2.0 in c:\\users\\opgrs\\anaconda3\\envs\\final_project\\lib\\site-packages (from imbalanced-learn->imblearn) (1.5.2)\n",
      "Requirement already satisfied: threadpoolctl<4,>=2.0.0 in c:\\users\\opgrs\\anaconda3\\envs\\final_project\\lib\\site-packages (from imbalanced-learn->imblearn) (3.6.0)\n",
      "Downloading imblearn-0.0-py2.py3-none-any.whl (1.9 kB)\n",
      "Downloading imbalanced_learn-0.14.0-py3-none-any.whl (239 kB)\n",
      "Installing collected packages: imbalanced-learn, imblearn\n",
      "\n",
      "   ---------------------------------------- 0/2 [imbalanced-learn]\n",
      "   ---------------------------------------- 0/2 [imbalanced-learn]\n",
      "   ---------------------------------------- 0/2 [imbalanced-learn]\n",
      "   ---------------------------------------- 0/2 [imbalanced-learn]\n",
      "   ---------------------------------------- 0/2 [imbalanced-learn]\n",
      "   ---------------------------------------- 0/2 [imbalanced-learn]\n",
      "   ---------------------------------------- 0/2 [imbalanced-learn]\n",
      "   ---------------------------------------- 0/2 [imbalanced-learn]\n",
      "   ---------------------------------------- 0/2 [imbalanced-learn]\n",
      "   ---------------------------------------- 0/2 [imbalanced-learn]\n",
      "   ---------------------------------------- 0/2 [imbalanced-learn]\n",
      "   ---------------------------------------- 0/2 [imbalanced-learn]\n",
      "   ---------------------------------------- 0/2 [imbalanced-learn]\n",
      "   ---------------------------------------- 0/2 [imbalanced-learn]\n",
      "   ---------------------------------------- 0/2 [imbalanced-learn]\n",
      "   ---------------------------------------- 0/2 [imbalanced-learn]\n",
      "   -------------------- ------------------- 1/2 [imblearn]\n",
      "   ---------------------------------------- 2/2 [imblearn]\n",
      "\n",
      "Successfully installed imbalanced-learn-0.14.0 imblearn-0.0\n",
      "Note: you may need to restart the kernel to use updated packages.\n"
     ]
    }
   ],
   "source": [
    "%pip install imblearn"
   ]
  },
  {
   "cell_type": "code",
   "execution_count": 70,
   "id": "ad867869",
   "metadata": {},
   "outputs": [
    {
     "name": "stderr",
     "output_type": "stream",
     "text": [
      "C:\\Users\\opgrs\\AppData\\Local\\Temp\\ipykernel_10700\\1438499469.py:16: FutureWarning: Downcasting behavior in `replace` is deprecated and will be removed in a future version. To retain the old behavior, explicitly call `result.infer_objects(copy=False)`. To opt-in to the future behavior, set `pd.set_option('future.no_silent_downcasting', True)`\n",
      "  df['Education']=df['Education'].replace(education_map)\n"
     ]
    },
    {
     "name": "stdout",
     "output_type": "stream",
     "text": [
      "SMOTE 적용 전 학습용 데이터셋:\n",
      "클래스 0(정상상환):180524\n",
      "클래스 1(연체):23753\n",
      "비율: 0.13157807272163258\n",
      "\n",
      "SMOTE 적용 후 학습용 데이터셋:\n",
      "클래스 0 (정상 상환): 180524개\n",
      "클래스 1 (연체): 180524개\n",
      "비율: 1.0\n"
     ]
    }
   ],
   "source": [
    "import pandas as pd\n",
    "from imblearn.over_sampling import SMOTE\n",
    "from sklearn.model_selection import train_test_split\n",
    "from sklearn.preprocessing import StandardScaler\n",
    "\n",
    "file_name = '.\\\\practice_data\\\\Loan_default.csv'\n",
    "df= pd.read_csv(file_name)\n",
    "df = df.drop('LoanID', axis=1)\n",
    "\n",
    "education_map = {\n",
    "    'High School': 0,\n",
    "    \"Bachelor's\": 1,\n",
    "    \"Master's\": 2,\n",
    "    'PhD': 3\n",
    "}\n",
    "df['Education']=df['Education'].replace(education_map)\n",
    "\n",
    "one_hot_cols = [\n",
    "    'EmploymentType','MaritalStatus','HasMortgage','HasDependents',\n",
    "    'LoanPurpose','HasCoSigner'\n",
    "]\n",
    "df_encoded = pd.get_dummies(df,columns=one_hot_cols,drop_first=True)\n",
    "\n",
    "numerical_cols = [\n",
    "    'Age', 'Income', 'LoanAmount', 'CreditScore', 'MonthsEmployed',\n",
    "    'NumCreditLines', 'InterestRate', 'LoanTerm', 'DTIRatio'\n",
    "]\n",
    "scaler = StandardScaler()\n",
    "df_encoded[numerical_cols]=scaler.fit_transform(df_encoded[numerical_cols])\n",
    "\n",
    "X = df_encoded.drop('Default',axis=1)\n",
    "y = df_encoded['Default']\n",
    "X_train, X_test, y_train, y_test = train_test_split(X,y,test_size=0.2,random_state=42)\n",
    "\n",
    "#SMOTE 적용 전 데이터 크기 확인]\n",
    "print(\"SMOTE 적용 전 학습용 데이터셋:\")\n",
    "print(f\"클래스 0(정상상환):{y_train.value_counts()[0]}\")\n",
    "print(f\"클래스 1(연체):{y_train.value_counts()[1]}\")\n",
    "print(\"비율:\",y_train.value_counts()[1] / y_train.value_counts()[0])\n",
    "\n",
    "#SMOTE 객체 생성\n",
    "smote = SMOTE(random_state=42)\n",
    "X_train_resampled, y_train_resampled = smote.fit_resample(X_train,y_train)\n",
    "\n",
    "# SMOTE 적용 후 데이터 크기 확인\n",
    "print(\"\\nSMOTE 적용 후 학습용 데이터셋:\")\n",
    "print(f\"클래스 0 (정상 상환): {y_train_resampled.value_counts()[0]}개\")\n",
    "print(f\"클래스 1 (연체): {y_train_resampled.value_counts()[1]}개\")\n",
    "print(\"비율:\", y_train_resampled.value_counts()[1] / y_train_resampled.value_counts()[0])"
   ]
  },
  {
   "cell_type": "code",
   "execution_count": 71,
   "id": "28e0c958",
   "metadata": {},
   "outputs": [
    {
     "name": "stdout",
     "output_type": "stream",
     "text": [
      "\n",
      "모델훈련을 시작합니다\n",
      "모델휸련이 완료되었습니다\n"
     ]
    }
   ],
   "source": [
    "from sklearn.ensemble import RandomForestClassifier\n",
    "from sklearn.metrics import accuracy_score\n",
    "\n",
    "model = RandomForestClassifier(random_state=42)\n",
    "\n",
    "print(\"\\n모델훈련을 시작합니다\")\n",
    "model.fit(X_train_resampled, y_train_resampled)\n",
    "print(\"모델휸련이 완료되었습니다\")"
   ]
  },
  {
   "cell_type": "code",
   "execution_count": null,
   "id": "2a646e16",
   "metadata": {},
   "outputs": [
    {
     "name": "stdout",
     "output_type": "stream",
     "text": [
      "\n",
      "테스트 데이터로 예측을 수행합니다...\n",
      "예측이 완료되었습니다.\n",
      "\n",
      "--- 모델 성능 평가 ---\n",
      "정확도(Accuracy): 0.8548\n",
      "정밀도(Precision): 0.3339\n",
      "재현율(Recall): 0.2578\n",
      "F1-Score: 0.2910\n",
      "ROC AUC: 0.7283\n",
      "\n",
      "[ Confusion Matrix ]\n",
      "[[42136  3034]\n",
      " [ 4379  1521]]\n",
      "\n",
      "[ Classification Report ]\n",
      "              precision    recall  f1-score   support\n",
      "\n",
      "  Normal (0)       0.91      0.93      0.92     45170\n",
      " Default (1)       0.33      0.26      0.29      5900\n",
      "\n",
      "    accuracy                           0.85     51070\n",
      "   macro avg       0.62      0.60      0.61     51070\n",
      "weighted avg       0.84      0.85      0.85     51070\n",
      "\n"
     ]
    }
   ],
   "source": [
    "from sklearn.metrics import confusion_matrix, accuracy_score, precision_score, recall_score, f1_score, roc_auc_score, classification_report\n",
    "\n",
    "\n",
    "# 3. 모델 예측\n",
    "# !!매우 중요!!: 평가할 때는 원본 테스트 데이터(X_test)를 사용합니다.\n",
    "print(\"\\n테스트 데이터로 예측을 수행합니다...\")\n",
    "y_pred = model.predict(X_test)\n",
    "print(\"예측이 완료되었습니다.\")\n",
    "\n",
    "\n",
    "# 4. 모델 성능 평가\n",
    "print(\"\\n--- 모델 성능 평가 ---\")\n",
    "print(f\"정확도(Accuracy): {accuracy_score(y_test, y_pred):.4f}\")\n",
    "print(f\"정밀도(Precision): {precision_score(y_test, y_pred):.4f}\")\n",
    "print(f\"재현율(Recall): {recall_score(y_test, y_pred):.4f}\")\n",
    "print(f\"F1-Score: {f1_score(y_test, y_pred):.4f}\")\n",
    "print(f\"ROC AUC: {roc_auc_score(y_test, model.predict_proba(X_test)[:, 1]):.4f}\")\n",
    "\n",
    "print(\"\\n[ Confusion Matrix ]\")\n",
    "print(confusion_matrix(y_test, y_pred))\n",
    "\n",
    "print(\"\\n[ Classification Report ]\")\n",
    "print(classification_report(y_test, y_pred, target_names=['Normal (0)', 'Default (1)']))"
   ]
  },
  {
   "cell_type": "code",
   "execution_count": 78,
   "id": "4696b978",
   "metadata": {},
   "outputs": [
    {
     "name": "stdout",
     "output_type": "stream",
     "text": [
      "Requirement already satisfied: matplotlib in c:\\users\\opgrs\\anaconda3\\envs\\final_project\\lib\\site-packages (3.10.6)\n",
      "Requirement already satisfied: contourpy>=1.0.1 in c:\\users\\opgrs\\anaconda3\\envs\\final_project\\lib\\site-packages (from matplotlib) (1.3.3)\n",
      "Requirement already satisfied: cycler>=0.10 in c:\\users\\opgrs\\anaconda3\\envs\\final_project\\lib\\site-packages (from matplotlib) (0.12.1)\n",
      "Requirement already satisfied: fonttools>=4.22.0 in c:\\users\\opgrs\\anaconda3\\envs\\final_project\\lib\\site-packages (from matplotlib) (4.59.2)\n",
      "Requirement already satisfied: kiwisolver>=1.3.1 in c:\\users\\opgrs\\anaconda3\\envs\\final_project\\lib\\site-packages (from matplotlib) (1.4.9)\n",
      "Requirement already satisfied: numpy>=1.23 in c:\\users\\opgrs\\anaconda3\\envs\\final_project\\lib\\site-packages (from matplotlib) (2.3.2)\n",
      "Requirement already satisfied: packaging>=20.0 in c:\\users\\opgrs\\anaconda3\\envs\\final_project\\lib\\site-packages (from matplotlib) (25.0)\n",
      "Requirement already satisfied: pillow>=8 in c:\\users\\opgrs\\anaconda3\\envs\\final_project\\lib\\site-packages (from matplotlib) (11.3.0)\n",
      "Requirement already satisfied: pyparsing>=2.3.1 in c:\\users\\opgrs\\anaconda3\\envs\\final_project\\lib\\site-packages (from matplotlib) (3.2.3)\n",
      "Requirement already satisfied: python-dateutil>=2.7 in c:\\users\\opgrs\\anaconda3\\envs\\final_project\\lib\\site-packages (from matplotlib) (2.9.0.post0)\n",
      "Requirement already satisfied: six>=1.5 in c:\\users\\opgrs\\anaconda3\\envs\\final_project\\lib\\site-packages (from python-dateutil>=2.7->matplotlib) (1.17.0)\n",
      "Note: you may need to restart the kernel to use updated packages.\n",
      "Collecting seaborn\n",
      "  Using cached seaborn-0.13.2-py3-none-any.whl.metadata (5.4 kB)\n",
      "Requirement already satisfied: numpy!=1.24.0,>=1.20 in c:\\users\\opgrs\\anaconda3\\envs\\final_project\\lib\\site-packages (from seaborn) (2.3.2)\n",
      "Requirement already satisfied: pandas>=1.2 in c:\\users\\opgrs\\anaconda3\\envs\\final_project\\lib\\site-packages (from seaborn) (2.3.2)\n",
      "Requirement already satisfied: matplotlib!=3.6.1,>=3.4 in c:\\users\\opgrs\\anaconda3\\envs\\final_project\\lib\\site-packages (from seaborn) (3.10.6)\n",
      "Requirement already satisfied: contourpy>=1.0.1 in c:\\users\\opgrs\\anaconda3\\envs\\final_project\\lib\\site-packages (from matplotlib!=3.6.1,>=3.4->seaborn) (1.3.3)\n",
      "Requirement already satisfied: cycler>=0.10 in c:\\users\\opgrs\\anaconda3\\envs\\final_project\\lib\\site-packages (from matplotlib!=3.6.1,>=3.4->seaborn) (0.12.1)\n",
      "Requirement already satisfied: fonttools>=4.22.0 in c:\\users\\opgrs\\anaconda3\\envs\\final_project\\lib\\site-packages (from matplotlib!=3.6.1,>=3.4->seaborn) (4.59.2)\n",
      "Requirement already satisfied: kiwisolver>=1.3.1 in c:\\users\\opgrs\\anaconda3\\envs\\final_project\\lib\\site-packages (from matplotlib!=3.6.1,>=3.4->seaborn) (1.4.9)\n",
      "Requirement already satisfied: packaging>=20.0 in c:\\users\\opgrs\\anaconda3\\envs\\final_project\\lib\\site-packages (from matplotlib!=3.6.1,>=3.4->seaborn) (25.0)\n",
      "Requirement already satisfied: pillow>=8 in c:\\users\\opgrs\\anaconda3\\envs\\final_project\\lib\\site-packages (from matplotlib!=3.6.1,>=3.4->seaborn) (11.3.0)\n",
      "Requirement already satisfied: pyparsing>=2.3.1 in c:\\users\\opgrs\\anaconda3\\envs\\final_project\\lib\\site-packages (from matplotlib!=3.6.1,>=3.4->seaborn) (3.2.3)\n",
      "Requirement already satisfied: python-dateutil>=2.7 in c:\\users\\opgrs\\anaconda3\\envs\\final_project\\lib\\site-packages (from matplotlib!=3.6.1,>=3.4->seaborn) (2.9.0.post0)\n",
      "Requirement already satisfied: pytz>=2020.1 in c:\\users\\opgrs\\anaconda3\\envs\\final_project\\lib\\site-packages (from pandas>=1.2->seaborn) (2025.2)\n",
      "Requirement already satisfied: tzdata>=2022.7 in c:\\users\\opgrs\\anaconda3\\envs\\final_project\\lib\\site-packages (from pandas>=1.2->seaborn) (2025.2)\n",
      "Requirement already satisfied: six>=1.5 in c:\\users\\opgrs\\anaconda3\\envs\\final_project\\lib\\site-packages (from python-dateutil>=2.7->matplotlib!=3.6.1,>=3.4->seaborn) (1.17.0)\n",
      "Using cached seaborn-0.13.2-py3-none-any.whl (294 kB)\n",
      "Installing collected packages: seaborn\n",
      "Successfully installed seaborn-0.13.2\n",
      "Note: you may need to restart the kernel to use updated packages.\n"
     ]
    }
   ],
   "source": [
    "%pip install matplotlib\n",
    "%pip install seaborn"
   ]
  },
  {
   "cell_type": "code",
   "execution_count": 79,
   "id": "a5544456",
   "metadata": {},
   "outputs": [
    {
     "data": {
      "image/png": "[encoded data removed]",
      "text/plain": [
       "<Figure size 1000x800 with 1 Axes>"
      ]
     },
     "metadata": {},
     "output_type": "display_data"
    }
   ],
   "source": [
    "import matplotlib.pyplot as plt\n",
    "import seaborn as sns\n",
    "\n",
    "# 특성 중요도 확인\n",
    "feature_importances = pd.Series(model.feature_importances_, index=X.columns)\n",
    "\n",
    "plt.figure(figsize=(10, 8))\n",
    "sns.barplot(x=feature_importances.nlargest(15), y=feature_importances.nlargest(15).index)\n",
    "plt.title('Top 15 Feature Importances')\n",
    "plt.show()\n"
   ]
  },
  {
   "cell_type": "code",
   "execution_count": null,
   "id": "1e6b296e",
   "metadata": {},
   "outputs": [],
   "source": [
    "df = "
   ]
  }
 ],
 "metadata": {
  "kernelspec": {
   "display_name": "final_project",
   "language": "python",
   "name": "python3"
  },
  "language_info": {
   "codemirror_mode": {
    "name": "ipython",
    "version": 3
   },
   "file_extension": ".py",
   "mimetype": "text/x-python",
   "name": "python",
   "nbconvert_exporter": "python",
   "pygments_lexer": "ipython3",
   "version": "3.11.13"
  }
 },
 "nbformat": 4,
 "nbformat_minor": 5
}
